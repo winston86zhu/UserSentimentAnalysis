{
 "cells": [
  {
   "cell_type": "code",
   "execution_count": 1,
   "id": "936ab8c9",
   "metadata": {},
   "outputs": [],
   "source": [
    "import pandas as pd\n",
    "from sklearn.feature_extraction.text import CountVectorizer\n",
    "from nltk.tokenize import RegexpTokenizer\n",
    "from sklearn.feature_extraction.text import TfidfVectorizer\n",
    "from sklearn.model_selection import train_test_split"
   ]
  },
  {
   "cell_type": "code",
   "execution_count": 2,
   "id": "be397265",
   "metadata": {},
   "outputs": [],
   "source": [
    "def convert_sentiment (score):\n",
    "    score = int(score)\n",
    "    if score > 2:\n",
    "        label = 1\n",
    "    elif score == 2:\n",
    "        label = 0\n",
    "    else:\n",
    "        label = -1\n",
    "\n",
    "    return label"
   ]
  },
  {
   "cell_type": "code",
   "execution_count": 9,
   "id": "723c7b74",
   "metadata": {},
   "outputs": [
    {
     "name": "stdout",
     "output_type": "stream",
     "text": [
      "<class 'pandas.core.frame.DataFrame'>\n",
      "Int64Index: 78030 entries, 151417 to 36575\n",
      "Data columns (total 4 columns):\n",
      " #   Column      Non-Null Count  Dtype \n",
      "---  ------      --------------  ----- \n",
      " 0   PhraseId    78030 non-null  int64 \n",
      " 1   SentenceId  78030 non-null  int64 \n",
      " 2   Phrase      78030 non-null  object\n",
      " 3   Sentiment   78030 non-null  int64 \n",
      "dtypes: int64(3), object(1)\n",
      "memory usage: 3.0+ MB\n"
     ]
    },
    {
     "data": {
      "text/html": [
       "<div>\n",
       "<style scoped>\n",
       "    .dataframe tbody tr th:only-of-type {\n",
       "        vertical-align: middle;\n",
       "    }\n",
       "\n",
       "    .dataframe tbody tr th {\n",
       "        vertical-align: top;\n",
       "    }\n",
       "\n",
       "    .dataframe thead th {\n",
       "        text-align: right;\n",
       "    }\n",
       "</style>\n",
       "<table border=\"1\" class=\"dataframe\">\n",
       "  <thead>\n",
       "    <tr style=\"text-align: right;\">\n",
       "      <th></th>\n",
       "      <th>PhraseId</th>\n",
       "      <th>SentenceId</th>\n",
       "      <th>Phrase</th>\n",
       "      <th>Sentiment</th>\n",
       "    </tr>\n",
       "  </thead>\n",
       "  <tbody>\n",
       "    <tr>\n",
       "      <th>151417</th>\n",
       "      <td>151418</td>\n",
       "      <td>8256</td>\n",
       "      <td>big time .</td>\n",
       "      <td>0</td>\n",
       "    </tr>\n",
       "    <tr>\n",
       "      <th>71131</th>\n",
       "      <td>71132</td>\n",
       "      <td>3630</td>\n",
       "      <td>those on both sides of the issues</td>\n",
       "      <td>0</td>\n",
       "    </tr>\n",
       "    <tr>\n",
       "      <th>98922</th>\n",
       "      <td>98923</td>\n",
       "      <td>5188</td>\n",
       "      <td>the heavy doses of weird performances and dire...</td>\n",
       "      <td>0</td>\n",
       "    </tr>\n",
       "    <tr>\n",
       "      <th>59134</th>\n",
       "      <td>59135</td>\n",
       "      <td>2983</td>\n",
       "      <td>without clobbering the audience over the head</td>\n",
       "      <td>1</td>\n",
       "    </tr>\n",
       "    <tr>\n",
       "      <th>26002</th>\n",
       "      <td>26003</td>\n",
       "      <td>1190</td>\n",
       "      <td>are so unmemorable , despite several attempts ...</td>\n",
       "      <td>-1</td>\n",
       "    </tr>\n",
       "  </tbody>\n",
       "</table>\n",
       "</div>"
      ],
      "text/plain": [
       "        PhraseId  SentenceId  \\\n",
       "151417    151418        8256   \n",
       "71131      71132        3630   \n",
       "98922      98923        5188   \n",
       "59134      59135        2983   \n",
       "26002      26003        1190   \n",
       "\n",
       "                                                   Phrase  Sentiment  \n",
       "151417                                         big time .          0  \n",
       "71131                   those on both sides of the issues          0  \n",
       "98922   the heavy doses of weird performances and dire...          0  \n",
       "59134       without clobbering the audience over the head          1  \n",
       "26002   are so unmemorable , despite several attempts ...         -1  "
      ]
     },
     "execution_count": 9,
     "metadata": {},
     "output_type": "execute_result"
    }
   ],
   "source": [
    "dataset = pd.read_csv('./data/train.tsv', sep='\\t', header=0)\n",
    "\n",
    "dataset = dataset.sample(frac =.50)\n",
    "# Convert text to lowercase\n",
    "dataset['Phrase'] = dataset['Phrase'].str.strip().str.lower()\n",
    "dataset['Sentiment'] = dataset['Sentiment'].map(lambda a: convert_sentiment(a))\n",
    "dataset.info()\n",
    "\n",
    "dataset.head()"
   ]
  },
  {
   "cell_type": "code",
   "execution_count": 73,
   "id": "acc11040",
   "metadata": {},
   "outputs": [
    {
     "name": "stdout",
     "output_type": "stream",
     "text": [
      "61745                                      seems obligatory\n",
      "5164                                 more sophisticated and\n",
      "2352                                    a corny examination\n",
      "6021                 was essentially , by campaign 's end ,\n",
      "45636                      squabbling working-class spouses\n",
      "                                ...                        \n",
      "115575                                        among sequels\n",
      "36939                           is truly gorgeous to behold\n",
      "88248                                                  pics\n",
      "123369    half of dragonfly is worse : the part where no...\n",
      "68758                                       olympia , wash.\n",
      "Name: Phrase, Length: 19508, dtype: object\n"
     ]
    }
   ],
   "source": [
    "vectorizer = TfidfVectorizer(min_df = 5,\n",
    "                             max_df = 0.8,\n",
    "                             sublinear_tf = True,\n",
    "                             use_idf = True)\n",
    "x = dataset['Phrase']\n",
    "y = dataset['Sentiment']\n",
    "\n",
    "\n",
    "x, x_test, y, y_test = train_test_split(x,y,test_size=0.25, random_state=101)\n",
    "print(x_test)"
   ]
  },
  {
   "cell_type": "code",
   "execution_count": 74,
   "id": "de6d2344",
   "metadata": {
    "pycharm": {
     "is_executing": true,
     "name": "#%%\n"
    }
   },
   "outputs": [],
   "source": [
    "from sklearn.feature_extraction.text import TfidfVectorizer\n",
    "\n",
    "#Vectorizing the text data\n",
    "X_train_vec = vectorizer.fit_transform(x)\n",
    "X_test_vec = vectorizer.transform(x_test)"
   ]
  },
  {
   "cell_type": "code",
   "execution_count": 75,
   "id": "fdc472ab",
   "metadata": {},
   "outputs": [
    {
     "data": {
      "text/plain": [
       "LogisticRegression(max_iter=1000)"
      ]
     },
     "execution_count": 75,
     "metadata": {},
     "output_type": "execute_result"
    }
   ],
   "source": [
    "from sklearn.linear_model import LogisticRegression\n",
    "#Training the model\n",
    "lr = LogisticRegression(max_iter=1000)\n",
    "lr.fit(X_train_vec, y)"
   ]
  },
  {
   "cell_type": "code",
   "execution_count": 76,
   "id": "f1ab73b7",
   "metadata": {},
   "outputs": [
    {
     "name": "stdout",
     "output_type": "stream",
     "text": [
      "Results for Logistic Regression with CountVectorizer\n",
      "0.7006868976830019\n"
     ]
    }
   ],
   "source": [
    "lr_score = lr.score(X_test_vec, y_test)\n",
    "print(\"Results for Logistic Regression with TfidfVectorizer\")\n",
    "print(lr_score)\n"
   ]
  },
  {
   "cell_type": "code",
   "execution_count": 87,
   "id": "b45fd837",
   "metadata": {},
   "outputs": [
    {
     "data": {
      "text/plain": [
       "['./model/linear_regression.pkl']"
      ]
     },
     "execution_count": 87,
     "metadata": {},
     "output_type": "execute_result"
    }
   ],
   "source": [
    "import joblib\n",
    "import pickle\n",
    "\n",
    "# Save model\n",
    "joblib.dump(lr, './model/linear_regression.pkl')\n"
   ]
  },
  {
   "cell_type": "code",
   "execution_count": 79,
   "id": "614a6dfd",
   "metadata": {},
   "outputs": [
    {
     "name": "stdout",
     "output_type": "stream",
     "text": [
      "  (0, 8980)\t0.2763957880161891\n",
      "  (0, 8217)\t0.20065196500451543\n",
      "  (0, 8177)\t0.10951245356872427\n",
      "  (0, 6243)\t0.37351600915643696\n",
      "  (0, 5942)\t0.42134554891777465\n",
      "  (0, 5515)\t0.2192565980553573\n",
      "  (0, 5357)\t0.3031549853914983\n",
      "  (0, 2363)\t0.26907652402159377\n",
      "  (0, 1288)\t0.4054556089145027\n",
      "  (0, 887)\t0.42134554891777465\n",
      "[0]\n"
     ]
    }
   ],
   "source": [
    "review = \"\"\"Do not purchase this product. My cell phone blast when I switched the charger\"\"\"\n",
    "review_vector = vectorizer.transform([review])\n",
    "print(vectorizer.transform([review]))\n",
    "print(lr.predict(review_vector))\n"
   ]
  },
  {
   "cell_type": "code",
   "execution_count": 81,
   "id": "3acfc496",
   "metadata": {},
   "outputs": [],
   "source": [
    "from sklearn import svm\n",
    "from sklearn.metrics import classification_report\n",
    "\n",
    "svm_model = svm.SVC(kernel='linear')\n",
    "svm_model.fit(X_train_vec, y)\n",
    "\n",
    "prediction_linear = svm_model.predict(X_test_vec)\n",
    "report = classification_report(y_test, prediction_linear, output_dict=True)"
   ]
  },
  {
   "cell_type": "code",
   "execution_count": 92,
   "id": "e3b966c4",
   "metadata": {},
   "outputs": [],
   "source": [
    "import joblib\n",
    "import pickle\n",
    "\n",
    "# Save model\n",
    "joblib.dump(svm_model, './model/svm_linear_model.pkl')\n",
    "\n",
    "file = open('./temp/vec_svm', 'wb')\n",
    "pickle.dump(vectorizer, file)\n",
    "file.close()"
   ]
  },
  {
   "cell_type": "code",
   "execution_count": 82,
   "id": "c6ee4d4a",
   "metadata": {},
   "outputs": [
    {
     "name": "stdout",
     "output_type": "stream",
     "text": [
      "{'-1': {'precision': 0.6757078986587183, 'recall': 0.5251331943479268, 'f1-score': 0.5909801876955162, 'support': 4317}, '0': {'precision': 0.6919732441471572, 'recall': 0.8294247344157146, 'f1-score': 0.7544899261555292, 'support': 9978}, '1': {'precision': 0.7495826377295493, 'recall': 0.6029157874544409, 'f1-score': 0.6682968318094834, 'support': 5213}, 'accuracy': 0.701558335042034, 'macro avg': {'precision': 0.7057545935118082, 'recall': 0.6524912387393608, 'f1-score': 0.6712556485535096, 'support': 19508}, 'weighted avg': {'precision': 0.7037684190636745, 'recall': 0.701558335042034, 'f1-score': 0.69527339233567, 'support': 19508}}\n"
     ]
    }
   ],
   "source": [
    "print(report)"
   ]
  },
  {
   "cell_type": "code",
   "execution_count": 93,
   "id": "80b98c41",
   "metadata": {},
   "outputs": [
    {
     "name": "stdout",
     "output_type": "stream",
     "text": [
      "[1]\n"
     ]
    }
   ],
   "source": [
    "loaded_model = joblib.load('./model/svm_linear_model.pkl')\n",
    "review = \"\"\"I love this movie\"\"\"\n",
    "review_vector = vectorizer.transform([review]) # vectorizing\n",
    "print(loaded_model.predict(review_vector))"
   ]
  },
  {
   "cell_type": "code",
   "execution_count": null,
   "id": "e7f0217e",
   "metadata": {},
   "outputs": [],
   "source": []
  }
 ],
 "metadata": {
  "kernelspec": {
   "display_name": "Python 3 (ipykernel)",
   "language": "python",
   "name": "python3"
  },
  "language_info": {
   "codemirror_mode": {
    "name": "ipython",
    "version": 3
   },
   "file_extension": ".py",
   "mimetype": "text/x-python",
   "name": "python",
   "nbconvert_exporter": "python",
   "pygments_lexer": "ipython3",
   "version": "3.9.7"
  }
 },
 "nbformat": 4,
 "nbformat_minor": 5
}
