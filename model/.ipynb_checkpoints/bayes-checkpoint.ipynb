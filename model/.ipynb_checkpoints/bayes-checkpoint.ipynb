{
 "cells": [
  {
   "cell_type": "code",
   "execution_count": 14,
   "id": "09de2e24",
   "metadata": {},
   "outputs": [],
   "source": [
    "import pandas as pd\n",
    "from sklearn.feature_extraction.text import CountVectorizer\n",
    "from nltk.tokenize import RegexpTokenizer"
   ]
  },
  {
   "cell_type": "code",
   "execution_count": 32,
   "id": "b19f9233",
   "metadata": {},
   "outputs": [
    {
     "name": "stdout",
     "output_type": "stream",
     "text": [
      "<class 'pandas.core.frame.DataFrame'>\n",
      "RangeIndex: 156060 entries, 0 to 156059\n",
      "Data columns (total 4 columns):\n",
      " #   Column      Non-Null Count   Dtype \n",
      "---  ------      --------------   ----- \n",
      " 0   PhraseId    156060 non-null  int64 \n",
      " 1   SentenceId  156060 non-null  int64 \n",
      " 2   Phrase      156060 non-null  object\n",
      " 3   Sentiment   156060 non-null  int64 \n",
      "dtypes: int64(3), object(1)\n",
      "memory usage: 4.8+ MB\n",
      "0         A series of escapades demonstrating the adage ...\n",
      "1         A series of escapades demonstrating the adage ...\n",
      "2                                                  A series\n",
      "3                                                         A\n",
      "4                                                    series\n",
      "                                ...                        \n",
      "156055                                            Hearst 's\n",
      "156056                            forced avuncular chortles\n",
      "156057                                   avuncular chortles\n",
      "156058                                            avuncular\n",
      "156059                                             chortles\n",
      "Name: Phrase, Length: 156060, dtype: object\n"
     ]
    }
   ],
   "source": [
    "dataset = pd.read_csv('../data/train.tsv', sep='\\t', header=0)\n",
    "dataset.info()\n",
    "dataset.Sentiment.value_counts()\n",
    "print(dataset['Phrase'])"
   ]
  },
  {
   "cell_type": "code",
   "execution_count": 33,
   "id": "3dd7544e",
   "metadata": {},
   "outputs": [
    {
     "name": "stdout",
     "output_type": "stream",
     "text": [
      "<class 'pandas.core.frame.DataFrame'>\n",
      "Int64Index: 156060 entries, 0 to 156059\n",
      "Data columns (total 5 columns):\n",
      " #   Column         Non-Null Count   Dtype \n",
      "---  ------         --------------   ----- \n",
      " 0   PhraseId       156060 non-null  int64 \n",
      " 1   SentenceId     156060 non-null  int64 \n",
      " 2   Phrase         156060 non-null  object\n",
      " 3   Sentiment      156060 non-null  int64 \n",
      " 4   stemmedPhrase  156060 non-null  object\n",
      "dtypes: int64(3), object(2)\n",
      "memory usage: 7.1+ MB\n"
     ]
    }
   ],
   "source": [
    "from nltk.stem.porter import PorterStemmer\n",
    "\n",
    "# Convert text to lowercase\n",
    "dataset = dataset.dropna()\n",
    "dataset['Phrase'] = dataset['Phrase'].str.strip().str.lower()\n",
    "\n",
    "# Use English stemmer.\n",
    "stemmer = PorterStemmer()\n",
    "\n",
    "dataset['unstemmed'] = dataset['Phrase'].str.split()\n",
    "dataset['stemmedPhrase'] = dataset['unstemmed'].apply(lambda x: [stemmer.stem(y) for y in x]) # Stem every word.\n",
    "dataset = dataset.drop(columns=['unstemmed']) # Get rid of the unstemmed column.\n",
    "dataset['Phrase'] = dataset['stemmedPhrase'].apply(lambda x: \" \".join(x)) # Stem every word.\n",
    "dataset.info()\n",
    "\n",
    "\n",
    "token = RegexpTokenizer(r'[a-zA-Z]+')\n",
    "cv = CountVectorizer(stop_words='english',ngram_range = (3,3),tokenizer = token.tokenize)"
   ]
  },
  {
   "cell_type": "code",
   "execution_count": 30,
   "id": "1beee418",
   "metadata": {},
   "outputs": [
    {
     "name": "stdout",
     "output_type": "stream",
     "text": [
      "0         [a, seri, of, escapad, demonstr, the, adag, th...\n",
      "1         [a, seri, of, escapad, demonstr, the, adag, th...\n",
      "2                                                 [a, seri]\n",
      "3                                                       [a]\n",
      "4                                                    [seri]\n",
      "                                ...                        \n",
      "156055                                         [hearst, 's]\n",
      "156056                            [forc, avuncular, chortl]\n",
      "156057                                  [avuncular, chortl]\n",
      "156058                                          [avuncular]\n",
      "156059                                             [chortl]\n",
      "Name: Phrase, Length: 156060, dtype: object\n"
     ]
    }
   ],
   "source": [
    "from nltk.stem import WordNetLemmatizer\n",
    " \n",
    "lemmatizer = WordNetLemmatizer()\n",
    "\n",
    "def lemmatize_text(text):\n",
    "    return [lemmatizer.lemmatize(w) for w in text.split()]\n",
    "\n",
    "\n",
    "print(dataset['Phrase'].apply(lemmatize_text))"
   ]
  },
  {
   "cell_type": "code",
   "execution_count": 38,
   "id": "569cd585",
   "metadata": {},
   "outputs": [
    {
     "name": "stdout",
     "output_type": "stream",
     "text": [
      "61.85%\n"
     ]
    }
   ],
   "source": [
    "from sklearn.model_selection import train_test_split\n",
    "# Split into training and testing data\n",
    "x = dataset['Phrase']\n",
    "y = dataset['Sentiment']\n",
    "\n",
    "x, x_test, y, y_test = train_test_split(x,y, stratify=y, test_size=0.25, random_state=5)\n",
    "vec = CountVectorizer(stop_words='english',ngram_range = (1,2),tokenizer = token.tokenize)\n",
    "x = vec.fit_transform(x)\n",
    "x_test = vec.transform(x_test)\n",
    "\n",
    "from sklearn.naive_bayes import MultinomialNB\n",
    "\n",
    "model = MultinomialNB()\n",
    "model.fit(x, y)\n",
    "from sklearn import metrics\n",
    "predicted = model.predict(x_test)\n",
    "accuracy_score = metrics.accuracy_score(predicted, y_test)\n",
    "print(str('{:04.2f}'.format(accuracy_score*100))+'%')"
   ]
  },
  {
   "cell_type": "code",
   "execution_count": 39,
   "id": "0c995904",
   "metadata": {},
   "outputs": [
    {
     "data": {
      "text/plain": [
       "['../model/bayes_multinomial_model.pkl']"
      ]
     },
     "execution_count": 39,
     "metadata": {},
     "output_type": "execute_result"
    }
   ],
   "source": [
    "import joblib\n",
    "\n",
    "# Save model\n",
    "joblib.dump(model, '../model/bayes_multinomial_model.pkl')"
   ]
  },
  {
   "cell_type": "code",
   "execution_count": 40,
   "id": "1a1d7ab7",
   "metadata": {},
   "outputs": [
    {
     "data": {
      "text/plain": [
       "array([2])"
      ]
     },
     "execution_count": 40,
     "metadata": {},
     "output_type": "execute_result"
    }
   ],
   "source": [
    "model.predict(vec.transform(['what a joke']))"
   ]
  },
  {
   "cell_type": "code",
   "execution_count": 41,
   "id": "7b56e671",
   "metadata": {},
   "outputs": [
    {
     "name": "stdout",
     "output_type": "stream",
     "text": [
      "60.47%\n"
     ]
    }
   ],
   "source": [
    "from sklearn.naive_bayes import BernoulliNB\n",
    "model_bnb = BernoulliNB()\n",
    "\n",
    "model_bnb.fit(x, y)\n",
    "predicted_bnb = model_bnb.predict(x_test)\n",
    "accuracy_score_bnb = metrics.accuracy_score(predicted_bnb, y_test)\n",
    "print(str('{:04.2f}'.format(accuracy_score_bnb*100))+'%')"
   ]
  },
  {
   "cell_type": "code",
   "execution_count": 43,
   "id": "7d071f9a",
   "metadata": {},
   "outputs": [
    {
     "name": "stdout",
     "output_type": "stream",
     "text": [
      "accuracy_score_mnb = 57.95%\n"
     ]
    }
   ],
   "source": [
    "from sklearn.feature_extraction.text import TfidfVectorizer\n",
    "tfidf = TfidfVectorizer()\n",
    "text_count_2 = tfidf.fit_transform(dataset['Phrase'])\n",
    "x_train_tfidf, x_test_tfidf, y_train_tfidf, y_test_tfidf = train_test_split(text_count_2, dataset['Sentiment'],test_size=0.25,random_state=5)\n",
    "\n",
    "MNB = MultinomialNB()\n",
    "MNB.fit(x_train_tfidf, y_train_tfidf)\n",
    "accuracy_score_mnb = metrics.accuracy_score(MNB.predict(x_test_tfidf), y_test_tfidf)\n",
    "print('accuracy_score_mnb = '+str('{:4.2f}'.format(accuracy_score_mnb*100))+'%')"
   ]
  },
  {
   "cell_type": "code",
   "execution_count": null,
   "id": "9a4703fd",
   "metadata": {},
   "outputs": [],
   "source": []
  }
 ],
 "metadata": {
  "kernelspec": {
   "display_name": "Python 3 (ipykernel)",
   "language": "python",
   "name": "python3"
  },
  "language_info": {
   "codemirror_mode": {
    "name": "ipython",
    "version": 3
   },
   "file_extension": ".py",
   "mimetype": "text/x-python",
   "name": "python",
   "nbconvert_exporter": "python",
   "pygments_lexer": "ipython3",
   "version": "3.9.7"
  }
 },
 "nbformat": 4,
 "nbformat_minor": 5
}
