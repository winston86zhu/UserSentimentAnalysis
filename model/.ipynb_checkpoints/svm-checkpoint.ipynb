{
 "cells": [
  {
   "cell_type": "code",
   "execution_count": 4,
   "id": "936ab8c9",
   "metadata": {},
   "outputs": [],
   "source": [
    "import pandas as pd\n",
    "from sklearn.feature_extraction.text import CountVectorizer\n",
    "from nltk.tokenize import RegexpTokenizer\n",
    "from sklearn.feature_extraction.text import TfidfVectorizer\n",
    "from sklearn.model_selection import train_test_split"
   ]
  },
  {
   "cell_type": "code",
   "execution_count": 5,
   "id": "be397265",
   "metadata": {},
   "outputs": [],
   "source": [
    "def convert_sentiment (score):\n",
    "    score = int(score)\n",
    "    if score > 2:\n",
    "        label = 1\n",
    "    elif score == 2:\n",
    "        label = 0\n",
    "    else:\n",
    "        label = -1\n",
    "\n",
    "    return label"
   ]
  },
  {
   "cell_type": "code",
   "execution_count": 6,
   "id": "723c7b74",
   "metadata": {},
   "outputs": [
    {
     "name": "stdout",
     "output_type": "stream",
     "text": [
      "<class 'pandas.core.frame.DataFrame'>\n",
      "Int64Index: 78030 entries, 29747 to 131857\n",
      "Data columns (total 4 columns):\n",
      " #   Column      Non-Null Count  Dtype \n",
      "---  ------      --------------  ----- \n",
      " 0   PhraseId    78030 non-null  int64 \n",
      " 1   SentenceId  78030 non-null  int64 \n",
      " 2   Phrase      78030 non-null  object\n",
      " 3   Sentiment   78030 non-null  int64 \n",
      "dtypes: int64(3), object(1)\n",
      "memory usage: 3.0+ MB\n"
     ]
    },
    {
     "data": {
      "text/html": [
       "<div>\n",
       "<style scoped>\n",
       "    .dataframe tbody tr th:only-of-type {\n",
       "        vertical-align: middle;\n",
       "    }\n",
       "\n",
       "    .dataframe tbody tr th {\n",
       "        vertical-align: top;\n",
       "    }\n",
       "\n",
       "    .dataframe thead th {\n",
       "        text-align: right;\n",
       "    }\n",
       "</style>\n",
       "<table border=\"1\" class=\"dataframe\">\n",
       "  <thead>\n",
       "    <tr style=\"text-align: right;\">\n",
       "      <th></th>\n",
       "      <th>PhraseId</th>\n",
       "      <th>SentenceId</th>\n",
       "      <th>Phrase</th>\n",
       "      <th>Sentiment</th>\n",
       "    </tr>\n",
       "  </thead>\n",
       "  <tbody>\n",
       "    <tr>\n",
       "      <th>29747</th>\n",
       "      <td>29748</td>\n",
       "      <td>1377</td>\n",
       "      <td>their 70s ,</td>\n",
       "      <td>0</td>\n",
       "    </tr>\n",
       "    <tr>\n",
       "      <th>140739</th>\n",
       "      <td>140740</td>\n",
       "      <td>7635</td>\n",
       "      <td>more overtly silly dialogue</td>\n",
       "      <td>-1</td>\n",
       "    </tr>\n",
       "    <tr>\n",
       "      <th>114728</th>\n",
       "      <td>114729</td>\n",
       "      <td>6105</td>\n",
       "      <td>see all summer</td>\n",
       "      <td>1</td>\n",
       "    </tr>\n",
       "    <tr>\n",
       "      <th>13525</th>\n",
       "      <td>13526</td>\n",
       "      <td>581</td>\n",
       "      <td>the subject 's</td>\n",
       "      <td>0</td>\n",
       "    </tr>\n",
       "    <tr>\n",
       "      <th>109528</th>\n",
       "      <td>109529</td>\n",
       "      <td>5802</td>\n",
       "      <td>young guns</td>\n",
       "      <td>0</td>\n",
       "    </tr>\n",
       "  </tbody>\n",
       "</table>\n",
       "</div>"
      ],
      "text/plain": [
       "        PhraseId  SentenceId                       Phrase  Sentiment\n",
       "29747      29748        1377                  their 70s ,          0\n",
       "140739    140740        7635  more overtly silly dialogue         -1\n",
       "114728    114729        6105               see all summer          1\n",
       "13525      13526         581               the subject 's          0\n",
       "109528    109529        5802                   young guns          0"
      ]
     },
     "execution_count": 6,
     "metadata": {},
     "output_type": "execute_result"
    }
   ],
   "source": [
    "dataset = pd.read_csv('../data/train.tsv', sep='\\t', header=0)\n",
    "\n",
    "dataset = dataset.sample(frac =.50)\n",
    "# Convert text to lowercase\n",
    "dataset['Phrase'] = dataset['Phrase'].str.strip().str.lower()\n",
    "dataset['Sentiment'] = dataset['Sentiment'].map(lambda a: convert_sentiment(a))\n",
    "dataset.info()\n",
    "\n",
    "dataset.head()"
   ]
  },
  {
   "cell_type": "code",
   "execution_count": 7,
   "id": "acc11040",
   "metadata": {},
   "outputs": [
    {
     "name": "stdout",
     "output_type": "stream",
     "text": [
      "11511                                               dignity\n",
      "101940                                             cut open\n",
      "115960                                an unrewarding collar\n",
      "1220                                     have that option .\n",
      "20803     collateral damage is trash , but it earns extr...\n",
      "                                ...                        \n",
      "103984                                   knows the mistakes\n",
      "57302          overall an overwhelmingly positive portrayal\n",
      "31422                                  a dependable concept\n",
      "95287     it 's too interested in jerking off in all its...\n",
      "54294                                              the band\n",
      "Name: Phrase, Length: 19508, dtype: object\n"
     ]
    }
   ],
   "source": [
    "vectorizer = TfidfVectorizer(min_df = 5,\n",
    "                             max_df = 0.8,\n",
    "                             sublinear_tf = True,\n",
    "                             use_idf = True)\n",
    "x = dataset['Phrase']\n",
    "y = dataset['Sentiment']\n",
    "\n",
    "\n",
    "x, x_test, y, y_test = train_test_split(x,y,test_size=0.25, random_state=101)\n",
    "print(x_test)"
   ]
  },
  {
   "cell_type": "code",
   "execution_count": 23,
   "id": "de6d2344",
   "metadata": {
    "pycharm": {
     "is_executing": true,
     "name": "#%%\n"
    }
   },
   "outputs": [],
   "source": [
    "from sklearn.feature_extraction.text import TfidfVectorizer\n",
    "\n",
    "#Vectorizing the text data\n",
    "X_train_vec = vectorizer.fit_transform(x)\n",
    "X_test_vec = vectorizer.transform(x_test)"
   ]
  },
  {
   "cell_type": "code",
   "execution_count": 24,
   "id": "fdc472ab",
   "metadata": {},
   "outputs": [
    {
     "data": {
      "text/plain": [
       "LogisticRegression(max_iter=1000)"
      ]
     },
     "execution_count": 24,
     "metadata": {},
     "output_type": "execute_result"
    }
   ],
   "source": [
    "from sklearn.linear_model import LogisticRegression\n",
    "#Training the model\n",
    "lr = LogisticRegression(max_iter=1000)\n",
    "lr.fit(X_train_vec, y)"
   ]
  },
  {
   "cell_type": "code",
   "execution_count": 27,
   "id": "f1ab73b7",
   "metadata": {},
   "outputs": [
    {
     "name": "stdout",
     "output_type": "stream",
     "text": [
      "Results for Logistic Regression with TfidfVectorizer\n",
      "0.7020196842321099\n",
      "\n",
      "\n",
      "{'-1': {'precision': 0.6912235746316464, 'recall': 0.511011129528771, 'f1-score': 0.5876106194690266, 'support': 4223}, '0': {'precision': 0.6903300713219439, 'recall': 0.8354074668807707, 'f1-score': 0.7559713014258468, 'support': 9964}, '1': {'precision': 0.7423752310536045, 'recall': 0.6038338658146964, 'f1-score': 0.6659757487822573, 'support': 5321}, 'accuracy': 0.7020196842321099, 'macro avg': {'precision': 0.7079762923357317, 'recall': 0.6500841540747461, 'f1-score': 0.6698525565590435, 'support': 19508}, 'weighted avg': {'precision': 0.7047193249311832, 'recall': 0.7020196842321099, 'f1-score': 0.6949781962628269, 'support': 19508}}\n"
     ]
    }
   ],
   "source": [
    "from sklearn.metrics import classification_report\n",
    "\n",
    "lr_score = lr.score(X_test_vec, y_test)\n",
    "print(\"Results for Logistic Regression with TfidfVectorizer\")\n",
    "print(lr_score)\n",
    "print(\"\\n\")\n",
    "\n",
    "prediction_lr = lr.predict(X_test_vec)\n",
    "lr_report = classification_report(y_test, prediction_lr, output_dict=True)\n",
    "print(lr_report)"
   ]
  },
  {
   "cell_type": "code",
   "execution_count": 12,
   "id": "b45fd837",
   "metadata": {},
   "outputs": [
    {
     "data": {
      "text/plain": [
       "['../model/linear_regression.pkl']"
      ]
     },
     "execution_count": 12,
     "metadata": {},
     "output_type": "execute_result"
    }
   ],
   "source": [
    "import joblib\n",
    "import pickle\n",
    "\n",
    "# Save model\n",
    "joblib.dump(lr, '../model/linear_regression.pkl')\n"
   ]
  },
  {
   "cell_type": "code",
   "execution_count": 13,
   "id": "614a6dfd",
   "metadata": {},
   "outputs": [
    {
     "name": "stdout",
     "output_type": "stream",
     "text": [
      "  (0, 8972)\t0.27395844780858786\n",
      "  (0, 8230)\t0.19735076325449857\n",
      "  (0, 8189)\t0.10800617494822799\n",
      "  (0, 6282)\t0.3771024540970851\n",
      "  (0, 5971)\t0.4331715490291515\n",
      "  (0, 5538)\t0.21863459150407488\n",
      "  (0, 5385)\t0.3050127014620418\n",
      "  (0, 2383)\t0.26687417594949736\n",
      "  (0, 1287)\t0.39788769009814856\n",
      "  (0, 882)\t0.41727687108223477\n",
      "[0]\n"
     ]
    }
   ],
   "source": [
    "review = \"\"\"Do not purchase this product. My cell phone blast when I switched the charger\"\"\"\n",
    "review_vector = vectorizer.transform([review])\n",
    "print(vectorizer.transform([review]))\n",
    "print(lr.predict(review_vector))\n"
   ]
  },
  {
   "cell_type": "code",
   "execution_count": 64,
   "id": "3acfc496",
   "metadata": {},
   "outputs": [
    {
     "name": "stdout",
     "output_type": "stream",
     "text": [
      "This SVm fitting process could take a while..\n"
     ]
    }
   ],
   "source": [
    "from sklearn import svm\n",
    "from sklearn.metrics import classification_report\n",
    "\n",
    "print(\"This SVm fitting process could take a while..\")\n",
    "\n",
    "svm_model = svm.SVC(kernel='linear')\n",
    "svm_model.fit(X_train_vec, y)\n",
    "\n",
    "prediction_linear = svm_model.predict(X_test_vec)\n",
    "report_svm = classification_report(y_test, prediction_linear, output_dict=True)"
   ]
  },
  {
   "cell_type": "code",
   "execution_count": 92,
   "id": "e3b966c4",
   "metadata": {},
   "outputs": [],
   "source": [
    "import joblib\n",
    "import pickle\n",
    "\n",
    "# Save model\n",
    "joblib.dump(svm_model, '../model/svm_linear_model.pkl')\n",
    "\n",
    "file = open('../temp/vec_svm', 'wb')\n",
    "pickle.dump(vectorizer, file)\n",
    "file.close()"
   ]
  },
  {
   "cell_type": "code",
   "execution_count": 60,
   "id": "c6ee4d4a",
   "metadata": {},
   "outputs": [
    {
     "name": "stdout",
     "output_type": "stream",
     "text": [
      "Results for SVM with TfidfVectorizer\n",
      "Accuracy 70.56%\n",
      "\n",
      "\n",
      "{'-1': {'precision': 0.6993159203980099, 'recall': 0.5191597414589104, 'f1-score': 0.5959194488606253, 'support': 4332}, '0': {'precision': 0.6886714214629291, 'recall': 0.8381106176826807, 'f1-score': 0.756077574433215, 'support': 9908}, '1': {'precision': 0.7583845063769485, 'recall': 0.6095292331055429, 'f1-score': 0.6758577141654388, 'support': 5268}, 'accuracy': 0.7055566946893582, 'macro avg': {'precision': 0.7154572827459624, 'recall': 0.655599864082378, 'f1-score': 0.675951579153093, 'support': 19508}, 'weighted avg': {'precision': 0.7098607028200044, 'recall': 0.7055566946893582, 'f1-score': 0.698849605196435, 'support': 19508}}\n"
     ]
    }
   ],
   "source": [
    "svm_model = joblib.load('../model/svm_linear_model.pkl')\n",
    "from sklearn import metrics\n",
    "\n",
    "print(\"Results for SVM with TfidfVectorizer\")\n",
    "\n",
    "accuracy_score = metrics.accuracy_score(prediction_linear, y_test)\n",
    "print(str('Accuracy for SVM Model is {:04.2f}'.format(accuracy_score*100))+'%')\n",
    "\n",
    "print(\"\\n\")\n",
    "print(report_svm)"
   ]
  },
  {
   "cell_type": "code",
   "execution_count": 68,
   "id": "f4398a1a",
   "metadata": {},
   "outputs": [],
   "source": [
    "def get_sentiment_category(score, threshold):\n",
    "    if score > threshold:\n",
    "        label = 'This input is positive :)'\n",
    "    elif score == threshold:\n",
    "        label = 'This input is neutral -_-'\n",
    "    else:\n",
    "        label = 'This input is negative :('\n",
    "\n",
    "    return label"
   ]
  },
  {
   "cell_type": "code",
   "execution_count": 69,
   "id": "80b98c41",
   "metadata": {},
   "outputs": [
    {
     "name": "stdout",
     "output_type": "stream",
     "text": [
      "This input is positive :)\n"
     ]
    }
   ],
   "source": [
    "# loaded_model = joblib.load('../model/svm_linear_model.pkl')\n",
    "review = \"\"\"I love this movie\"\"\"\n",
    "review_vector = vectorizer.transform([review]) # vectorizing\n",
    "review_score = svm_model.predict(review_vector)\n",
    "\n",
    "print(get_sentiment_category(review_score[0], 0))"
   ]
  },
  {
   "cell_type": "code",
   "execution_count": 71,
   "id": "e7f0217e",
   "metadata": {},
   "outputs": [
    {
     "name": "stdout",
     "output_type": "stream",
     "text": [
      "This input is negative :(\n"
     ]
    }
   ],
   "source": [
    "review = \"\"\"I hate this movie\"\"\"\n",
    "review_vector = vectorizer.transform([review]) # vectorizing\n",
    "review_score = svm_model.predict(review_vector)\n",
    "\n",
    "print(get_sentiment_category(review_score[0], 0))"
   ]
  },
  {
   "cell_type": "code",
   "execution_count": null,
   "id": "408449f5",
   "metadata": {},
   "outputs": [],
   "source": []
  }
 ],
 "metadata": {
  "kernelspec": {
   "display_name": "Python 3 (ipykernel)",
   "language": "python",
   "name": "python3"
  },
  "language_info": {
   "codemirror_mode": {
    "name": "ipython",
    "version": 3
   },
   "file_extension": ".py",
   "mimetype": "text/x-python",
   "name": "python",
   "nbconvert_exporter": "python",
   "pygments_lexer": "ipython3",
   "version": "3.9.7"
  }
 },
 "nbformat": 4,
 "nbformat_minor": 5
}
