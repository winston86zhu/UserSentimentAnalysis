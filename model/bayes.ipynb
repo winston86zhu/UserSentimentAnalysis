{
 "cells": [
  {
   "cell_type": "code",
   "execution_count": 19,
   "id": "09de2e24",
   "metadata": {},
   "outputs": [],
   "source": [
    "import pandas as pd\n",
    "from sklearn.feature_extraction.text import CountVectorizer\n",
    "from nltk.tokenize import RegexpTokenizer"
   ]
  },
  {
   "cell_type": "code",
   "execution_count": 20,
   "id": "b19f9233",
   "metadata": {},
   "outputs": [
    {
     "name": "stdout",
     "output_type": "stream",
     "text": [
      "<class 'pandas.core.frame.DataFrame'>\n",
      "RangeIndex: 156060 entries, 0 to 156059\n",
      "Data columns (total 4 columns):\n",
      " #   Column      Non-Null Count   Dtype \n",
      "---  ------      --------------   ----- \n",
      " 0   PhraseId    156060 non-null  int64 \n",
      " 1   SentenceId  156060 non-null  int64 \n",
      " 2   Phrase      156060 non-null  object\n",
      " 3   Sentiment   156060 non-null  int64 \n",
      "dtypes: int64(3), object(1)\n",
      "memory usage: 4.8+ MB\n",
      "0         A series of escapades demonstrating the adage ...\n",
      "1         A series of escapades demonstrating the adage ...\n",
      "2                                                  A series\n",
      "3                                                         A\n",
      "4                                                    series\n",
      "                                ...                        \n",
      "156055                                            Hearst 's\n",
      "156056                            forced avuncular chortles\n",
      "156057                                   avuncular chortles\n",
      "156058                                            avuncular\n",
      "156059                                             chortles\n",
      "Name: Phrase, Length: 156060, dtype: object\n"
     ]
    }
   ],
   "source": [
    "dataset = pd.read_csv('../data/train.tsv', sep='\\t', header=0)\n",
    "dataset.info()\n",
    "dataset.Sentiment.value_counts()\n",
    "print(dataset['Phrase'])"
   ]
  },
  {
   "cell_type": "code",
   "execution_count": 21,
   "id": "3dd7544e",
   "metadata": {},
   "outputs": [
    {
     "name": "stdout",
     "output_type": "stream",
     "text": [
      "<class 'pandas.core.frame.DataFrame'>\n",
      "Int64Index: 156060 entries, 0 to 156059\n",
      "Data columns (total 4 columns):\n",
      " #   Column      Non-Null Count   Dtype \n",
      "---  ------      --------------   ----- \n",
      " 0   PhraseId    156060 non-null  int64 \n",
      " 1   SentenceId  156060 non-null  int64 \n",
      " 2   Phrase      156060 non-null  object\n",
      " 3   Sentiment   156060 non-null  int64 \n",
      "dtypes: int64(3), object(1)\n",
      "memory usage: 6.0+ MB\n"
     ]
    }
   ],
   "source": [
    "from nltk.stem.porter import PorterStemmer\n",
    "\n",
    "# Convert text to lowercase\n",
    "dataset = dataset.dropna()\n",
    "dataset['Phrase'] = dataset['Phrase'].str.strip().str.lower()\n",
    "\n",
    "# Use English stemmer.\n",
    "# stemmer = PorterStemmer()\n",
    "\n",
    "# dataset['unstemmed'] = dataset['Phrase'].str.split()\n",
    "# dataset['stemmedPhrase'] = dataset['unstemmed'].apply(lambda x: [stemmer.stem(y) for y in x]) # Stem every word.\n",
    "# dataset = dataset.drop(columns=['unstemmed']) # Get rid of the unstemmed column.\n",
    "# dataset['Phrase'] = dataset['stemmedPhrase'].apply(lambda x: \" \".join(x)) # Stem every word.\n",
    "dataset.info()\n",
    "\n",
    "\n",
    "token = RegexpTokenizer(r'[a-zA-Z]+')\n",
    "cv = CountVectorizer(stop_words='english',ngram_range = (3,3),tokenizer = token.tokenize)"
   ]
  },
  {
   "cell_type": "code",
   "execution_count": 22,
   "id": "569cd585",
   "metadata": {},
   "outputs": [
    {
     "name": "stdout",
     "output_type": "stream",
     "text": [
      "Accuracy 61.35%\n",
      "This is the report for MultinomialNB with CountVectorizer\n",
      "\n",
      "{'0': {'precision': 0.39909297052154197, 'recall': 0.39819004524886875, 'f1-score': 0.39864099660249147, 'support': 1768}, '1': {'precision': 0.48560830860534127, 'recall': 0.4800528014080375, 'f1-score': 0.48281457442100606, 'support': 6818}, '2': {'precision': 0.7267499504263335, 'recall': 0.7368685599396834, 'f1-score': 0.731774278084209, 'support': 19895}, '3': {'precision': 0.529440688383528, 'recall': 0.5232021379980564, 'f1-score': 0.526302926620639, 'support': 8232}, '4': {'precision': 0.45054446460980035, 'recall': 0.4313640312771503, 'f1-score': 0.44074567243675095, 'support': 2302}, 'accuracy': 0.6135332564398308, 'macro avg': {'precision': 0.518287276509309, 'recall': 0.5139355151743592, 'f1-score': 0.5160556896330193, 'support': 39015}, 'weighted avg': {'precision': 0.6118332228114871, 'recall': 0.6135332564398308, 'f1-score': 0.6126463806938731, 'support': 39015}}\n"
     ]
    }
   ],
   "source": [
    "from sklearn.model_selection import train_test_split\n",
    "from sklearn.metrics import classification_report\n",
    "# Split into training and testing data\n",
    "x = dataset['Phrase']\n",
    "y = dataset['Sentiment']\n",
    "\n",
    "x, x_test, y, y_test = train_test_split(x,y, stratify=y, test_size=0.25, random_state=5)\n",
    "vec = CountVectorizer(stop_words='english',ngram_range = (1,2),tokenizer = token.tokenize)\n",
    "x = vec.fit_transform(x)\n",
    "x_test = vec.transform(x_test)\n",
    "\n",
    "from sklearn.naive_bayes import MultinomialNB\n",
    "\n",
    "model = MultinomialNB()\n",
    "model.fit(x, y)\n",
    "from sklearn import metrics\n",
    "predicted = model.predict(x_test)\n",
    "accuracy_score = metrics.accuracy_score(predicted, y_test)\n",
    "print(str('Accuracy {:04.2f}'.format(accuracy_score*100))+'%')\n",
    "\n",
    "report_mnb_reg = classification_report(y_test, predicted, output_dict=True)\n",
    "print(\"This is the report for MultinomialNB with CountVectorizer\\n\")\n",
    "print(report_mnb_reg)"
   ]
  },
  {
   "cell_type": "code",
   "execution_count": 14,
   "id": "0c995904",
   "metadata": {},
   "outputs": [],
   "source": [
    "import joblib\n",
    "import pickle\n",
    "\n",
    "# Save model\n",
    "joblib.dump(model, '../model/bayes_multinomial_model.pkl')\n",
    "\n",
    "file = open('../temp/vec_bayes', 'wb')\n",
    "pickle.dump(vec, file)\n",
    "file.close()"
   ]
  },
  {
   "cell_type": "code",
   "execution_count": 15,
   "id": "1a1d7ab7",
   "metadata": {},
   "outputs": [
    {
     "data": {
      "text/plain": [
       "array([4])"
      ]
     },
     "execution_count": 15,
     "metadata": {},
     "output_type": "execute_result"
    }
   ],
   "source": [
    "model.predict(vec.transform(['The Movie is AWesome']))"
   ]
  },
  {
   "cell_type": "code",
   "execution_count": 17,
   "id": "628287aa",
   "metadata": {},
   "outputs": [
    {
     "data": {
      "text/plain": [
       "array([3])"
      ]
     },
     "execution_count": 17,
     "metadata": {},
     "output_type": "execute_result"
    }
   ],
   "source": [
    "model.predict(vec.transform(['The Movie is Not that good']))"
   ]
  },
  {
   "cell_type": "code",
   "execution_count": 18,
   "id": "5aa0f347",
   "metadata": {},
   "outputs": [
    {
     "data": {
      "text/plain": [
       "array([1])"
      ]
     },
     "execution_count": 18,
     "metadata": {},
     "output_type": "execute_result"
    }
   ],
   "source": [
    "model.predict(vec.transform(['The smell is bad']))"
   ]
  },
  {
   "cell_type": "code",
   "execution_count": 16,
   "id": "7b56e671",
   "metadata": {},
   "outputs": [
    {
     "name": "stdout",
     "output_type": "stream",
     "text": [
      "60.71%\n",
      "This is the report for BernoulliNB\n",
      "\n",
      "{'0': {'precision': 0.44457409568261375, 'recall': 0.2154977375565611, 'f1-score': 0.2902857142857143, 'support': 1768}, '1': {'precision': 0.5188916876574308, 'recall': 0.36256966852449396, 'f1-score': 0.42686927991711276, 'support': 6818}, '2': {'precision': 0.6451382358472822, 'recall': 0.8620758984669515, 'f1-score': 0.7379948364888124, 'support': 19895}, '3': {'precision': 0.5558505930253143, 'recall': 0.3814382896015549, 'f1-score': 0.4524169728405734, 'support': 8232}, '4': {'precision': 0.4672413793103448, 'recall': 0.23544743701129453, 'f1-score': 0.31311380704794917, 'support': 2302}, 'accuracy': 0.6070998333974112, 'macro avg': {'precision': 0.5263391983045972, 'recall': 0.4114058062321712, 'f1-score': 0.44413612211603243, 'support': 39015}, 'weighted avg': {'precision': 0.5846517356594567, 'recall': 0.6070998333974112, 'f1-score': 0.5780113205055727, 'support': 39015}}\n"
     ]
    }
   ],
   "source": [
    "from sklearn.naive_bayes import BernoulliNB\n",
    "model_bnb = BernoulliNB()\n",
    "\n",
    "model_bnb.fit(x, y)\n",
    "predicted_bnb = model_bnb.predict(x_test)\n",
    "accuracy_score_bnb = metrics.accuracy_score(predicted_bnb, y_test)\n",
    "print(str('{:04.2f}'.format(accuracy_score_bnb*100))+'%')\n",
    "report_bnb = classification_report(y_test, predicted_bnb, output_dict=True)\n",
    "print(\"This is the report for BernoulliNB\\n\")\n",
    "print(report_bnb)"
   ]
  },
  {
   "cell_type": "code",
   "execution_count": 53,
   "id": "7d071f9a",
   "metadata": {},
   "outputs": [
    {
     "name": "stdout",
     "output_type": "stream",
     "text": [
      "accuracy_score_mnb = 57.95%\n",
      "This is the report for MultinomialNB using TfidfVectorizer\n",
      "\n",
      "{'0': {'precision': 0.057692307692307696, 'recall': 0.003393665158371041, 'f1-score': 0.00641025641025641, 'support': 1768}, '1': {'precision': 0.1711193777477173, 'recall': 0.07421531240833089, 'f1-score': 0.10352941176470588, 'support': 6818}, '2': {'precision': 0.5100819052004868, 'recall': 0.7794420708720784, 'f1-score': 0.6166295530459679, 'support': 19895}, '3': {'precision': 0.21150278293135436, 'recall': 0.13848396501457727, 'f1-score': 0.16737630303920129, 'support': 8232}, '4': {'precision': 0.0736196319018405, 'recall': 0.005212858384013901, 'f1-score': 0.00973630831643002, 'support': 2302}, 'accuracy': 0.4401127771369986, 'macro avg': {'precision': 0.20480320109474132, 'recall': 0.2001495743674743, 'f1-score': 0.18073636651531227, 'support': 39015}, 'weighted avg': {'precision': 0.3415951486140348, 'recall': 0.4401127771369986, 'f1-score': 0.36871194486627595, 'support': 39015}}\n"
     ]
    }
   ],
   "source": [
    "from sklearn.feature_extraction.text import TfidfVectorizer\n",
    "tfidf = TfidfVectorizer()\n",
    "text_count_2 = tfidf.fit_transform(dataset['Phrase'])\n",
    "x_train_tfidf, x_test_tfidf, y_train_tfidf, y_test_tfidf = train_test_split(text_count_2, dataset['Sentiment'],test_size=0.25,random_state=5)\n",
    "\n",
    "MNB = MultinomialNB()\n",
    "MNB.fit(x_train_tfidf, y_train_tfidf)\n",
    "predicted_mnb = MNB.predict(x_test_tfidf)\n",
    "accuracy_score_mnb = metrics.accuracy_score(MNB.predict(x_test_tfidf), y_test_tfidf)\n",
    "print('accuracy_score_mnb = '+str('{:4.2f}'.format(accuracy_score_mnb*100))+'%')\n",
    "\n",
    "report_bnb = classification_report(y_test, predicted_mnb, output_dict=True)\n",
    "print(\"This is the report for MultinomialNB using TfidfVectorizer\\n\")\n",
    "print(report_bnb)"
   ]
  },
  {
   "cell_type": "code",
   "execution_count": null,
   "id": "9a4703fd",
   "metadata": {},
   "outputs": [],
   "source": []
  }
 ],
 "metadata": {
  "kernelspec": {
   "display_name": "Python 3 (ipykernel)",
   "language": "python",
   "name": "python3"
  },
  "language_info": {
   "codemirror_mode": {
    "name": "ipython",
    "version": 3
   },
   "file_extension": ".py",
   "mimetype": "text/x-python",
   "name": "python",
   "nbconvert_exporter": "python",
   "pygments_lexer": "ipython3",
   "version": "3.9.7"
  }
 },
 "nbformat": 4,
 "nbformat_minor": 5
}