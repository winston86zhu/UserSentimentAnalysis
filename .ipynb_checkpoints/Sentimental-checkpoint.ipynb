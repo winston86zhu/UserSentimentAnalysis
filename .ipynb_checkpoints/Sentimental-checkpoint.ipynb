{
 "cells": [
  {
   "cell_type": "code",
   "execution_count": 7,
   "id": "09de2e24",
   "metadata": {},
   "outputs": [],
   "source": [
    "import pandas as pd\n",
    "from sklearn.feature_extraction.text import CountVectorizer\n",
    "from nltk.tokenize import RegexpTokenizer"
   ]
  },
  {
   "cell_type": "code",
   "execution_count": 34,
   "id": "b19f9233",
   "metadata": {},
   "outputs": [
    {
     "name": "stdout",
     "output_type": "stream",
     "text": [
      "<class 'pandas.core.frame.DataFrame'>\n",
      "RangeIndex: 156060 entries, 0 to 156059\n",
      "Data columns (total 4 columns):\n",
      " #   Column      Non-Null Count   Dtype \n",
      "---  ------      --------------   ----- \n",
      " 0   PhraseId    156060 non-null  int64 \n",
      " 1   SentenceId  156060 non-null  int64 \n",
      " 2   Phrase      156060 non-null  object\n",
      " 3   Sentiment   156060 non-null  int64 \n",
      "dtypes: int64(3), object(1)\n",
      "memory usage: 4.8+ MB\n",
      "0         A series of escapades demonstrating the adage ...\n",
      "1         A series of escapades demonstrating the adage ...\n",
      "2                                                  A series\n",
      "3                                                         A\n",
      "4                                                    series\n",
      "                                ...                        \n",
      "156055                                            Hearst 's\n",
      "156056                            forced avuncular chortles\n",
      "156057                                   avuncular chortles\n",
      "156058                                            avuncular\n",
      "156059                                             chortles\n",
      "Name: Phrase, Length: 156060, dtype: object\n"
     ]
    }
   ],
   "source": [
    "dataset = pd.read_csv('./data/train.tsv', sep='\\t', header=0)\n",
    "dataset.info()\n",
    "dataset.Sentiment.value_counts()\n",
    "print(dataset['Phrase'])"
   ]
  },
  {
   "cell_type": "code",
   "execution_count": 51,
   "id": "126d130e",
   "metadata": {},
   "outputs": [
    {
     "name": "stdout",
     "output_type": "stream",
     "text": [
      "0         a series of escapades demonstrating the adage ...\n",
      "1         a series of escapades demonstrating the adage ...\n",
      "2                                                  a series\n",
      "3                                                         a\n",
      "4                                                    series\n",
      "                                ...                        \n",
      "156055                                            hearst 's\n",
      "156056                            forced avuncular chortles\n",
      "156057                                   avuncular chortles\n",
      "156058                                            avuncular\n",
      "156059                                             chortles\n",
      "Name: Phrase, Length: 156060, dtype: object\n"
     ]
    }
   ],
   "source": []
  },
  {
   "cell_type": "code",
   "execution_count": 45,
   "id": "3dd7544e",
   "metadata": {},
   "outputs": [
    {
     "name": "stdout",
     "output_type": "stream",
     "text": [
      "<class 'pandas.core.frame.DataFrame'>\n",
      "RangeIndex: 156060 entries, 0 to 156059\n",
      "Data columns (total 5 columns):\n",
      " #   Column         Non-Null Count   Dtype \n",
      "---  ------         --------------   ----- \n",
      " 0   PhraseId       156060 non-null  int64 \n",
      " 1   SentenceId     156060 non-null  int64 \n",
      " 2   Phrase         156060 non-null  object\n",
      " 3   Sentiment      156060 non-null  int64 \n",
      " 4   stemmedPhrase  156060 non-null  object\n",
      "dtypes: int64(3), object(2)\n",
      "memory usage: 6.0+ MB\n"
     ]
    }
   ],
   "source": [
    "from nltk.stem.porter import PorterStemmer\n",
    "\n",
    "# Convert text to lowercase\n",
    "dataset['Phrase'] = dataset['Phrase'].str.strip().str.lower()\n",
    "    \n",
    "# # Use English stemmer.\n",
    "# stemmer = PorterStemmer()\n",
    "\n",
    "# dataset['unstemmed'] = dataset['Phrase'].str.split()\n",
    "# dataset['stemmedPhrase'] = dataset['unstemmed'].apply(lambda x: [stemmer.stem(y) for y in x]) # Stem every word.\n",
    "# dataset = dataset.drop(columns=['unstemmed']) # Get rid of the unstemmed column.\n",
    "# dataset['stemmedPhrase'] = dataset['stemmedPhrase'].apply(lambda x: \" \".join(x)) # Stem every word.\n",
    "# dataset.info()\n",
    "\n",
    "\n",
    "token = RegexpTokenizer(r'[a-zA-Z]+')\n",
    "cv = CountVectorizer(stop_words='english',ngram_range = (2,2),tokenizer = token.tokenize)\n",
    "text_counts = cv.fit_transform(dataset['Phrase'])"
   ]
  },
  {
   "cell_type": "code",
   "execution_count": 36,
   "id": "ee23cd7a",
   "metadata": {},
   "outputs": [
    {
     "name": "stdout",
     "output_type": "stream",
     "text": [
      "thi quiet , introspect and entertain independ is worth seek .\n"
     ]
    }
   ],
   "source": [
    "print(dataset['stemmedPhrase'][63])"
   ]
  },
  {
   "cell_type": "code",
   "execution_count": 55,
   "id": "e90e3716",
   "metadata": {},
   "outputs": [],
   "source": [
    "from sklearn.model_selection import train_test_split\n",
    "from sklearn.naive_bayes import MultinomialNB\n",
    "X_train, X_test, Y_train, Y_test = train_test_split(dataset['Phrase'], dataset['Sentiment'],\n",
    "                                                    stratify=dataset['Sentiment'], test_size=0.25, random_state=5)\n",
    "X_train = cv.fit_transform(X_train).toarray()\n",
    "X_test = cv.transform(X_test).toarray()"
   ]
  },
  {
   "cell_type": "code",
   "execution_count": null,
   "id": "98ffa10e",
   "metadata": {},
   "outputs": [
    {
     "name": "stdout",
     "output_type": "stream",
     "text": [
      "[[0 0 0 ... 0 0 0]\n",
      " [0 0 0 ... 0 0 0]\n",
      " [0 0 0 ... 0 0 0]\n",
      " ...\n",
      " [0 0 0 ... 0 0 0]\n",
      " [0 0 0 ... 0 0 0]\n",
      " [0 0 0 ... 0 0 0]]\n"
     ]
    }
   ],
   "source": [
    "print(X_train)\n",
    "MNB = MultinomialNB()\n",
    "MNB.fit(X_train, Y_train)"
   ]
  },
  {
   "cell_type": "code",
   "execution_count": null,
   "id": "f69e4045",
   "metadata": {},
   "outputs": [],
   "source": [
    "from sklearn import metrics\n",
    "predicted = MNB.predict(X_test)\n",
    "accuracy_score = metrics.accuracy_score(predicted, Y_test)\n",
    "print(str('{:04.2f}'.format(accuracy_score*100))+'%')"
   ]
  },
  {
   "cell_type": "code",
   "execution_count": null,
   "id": "7b56e671",
   "metadata": {},
   "outputs": [],
   "source": []
  }
 ],
 "metadata": {
  "kernelspec": {
   "display_name": "Python 3",
   "language": "python",
   "name": "python3"
  },
  "language_info": {
   "codemirror_mode": {
    "name": "ipython",
    "version": 3
   },
   "file_extension": ".py",
   "mimetype": "text/x-python",
   "name": "python",
   "nbconvert_exporter": "python",
   "pygments_lexer": "ipython3",
   "version": "3.9.7"
  }
 },
 "nbformat": 4,
 "nbformat_minor": 5
}
